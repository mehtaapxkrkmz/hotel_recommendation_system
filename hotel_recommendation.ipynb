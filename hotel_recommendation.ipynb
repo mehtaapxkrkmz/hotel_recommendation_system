{
 "cells": [
  {
   "cell_type": "markdown",
   "metadata": {},
   "source": [
    "Hotel Recommendation System\n",
    "\n",
    "Bizim yaklaşımımız müşteri yorumlarına ve derecelendirmelerine dayalı bir öneri sistemi oluşturmaktır.Kullanıcı puanlarına göre bir öneri sistemi oluşturacağım için burada doğal dil işleme kullanacağım. "
   ]
  },
  {
   "cell_type": "code",
   "execution_count": 38,
   "metadata": {},
   "outputs": [
    {
     "name": "stdout",
     "output_type": "stream",
     "text": [
      "Warning: Looks like you're using an outdated `kagglehub` version, please consider updating (latest version: 0.3.5)\n",
      "Path to dataset files: C:\\Users\\Asus\\.cache\\kagglehub\\datasets\\jiashenliu\\515k-hotel-reviews-data-in-europe\\versions\\1\n"
     ]
    }
   ],
   "source": [
    "# Kullanacağım dataset.\n",
    "\n",
    "import kagglehub\n",
    "\n",
    "# Download latest version\n",
    "path = kagglehub.dataset_download(\"jiashenliu/515k-hotel-reviews-data-in-europe\")\n",
    "\n",
    "print(\"Path to dataset files:\", path)"
   ]
  },
  {
   "cell_type": "code",
   "execution_count": 39,
   "metadata": {},
   "outputs": [
    {
     "data": {
      "text/html": [
       "<div>\n",
       "<style scoped>\n",
       "    .dataframe tbody tr th:only-of-type {\n",
       "        vertical-align: middle;\n",
       "    }\n",
       "\n",
       "    .dataframe tbody tr th {\n",
       "        vertical-align: top;\n",
       "    }\n",
       "\n",
       "    .dataframe thead th {\n",
       "        text-align: right;\n",
       "    }\n",
       "</style>\n",
       "<table border=\"1\" class=\"dataframe\">\n",
       "  <thead>\n",
       "    <tr style=\"text-align: right;\">\n",
       "      <th></th>\n",
       "      <th>Hotel_Address</th>\n",
       "      <th>Additional_Number_of_Scoring</th>\n",
       "      <th>Review_Date</th>\n",
       "      <th>Average_Score</th>\n",
       "      <th>Hotel_Name</th>\n",
       "      <th>Reviewer_Nationality</th>\n",
       "      <th>Negative_Review</th>\n",
       "      <th>Review_Total_Negative_Word_Counts</th>\n",
       "      <th>Total_Number_of_Reviews</th>\n",
       "      <th>Positive_Review</th>\n",
       "      <th>Review_Total_Positive_Word_Counts</th>\n",
       "      <th>Total_Number_of_Reviews_Reviewer_Has_Given</th>\n",
       "      <th>Reviewer_Score</th>\n",
       "      <th>Tags</th>\n",
       "      <th>days_since_review</th>\n",
       "      <th>lat</th>\n",
       "      <th>lng</th>\n",
       "    </tr>\n",
       "  </thead>\n",
       "  <tbody>\n",
       "    <tr>\n",
       "      <th>0</th>\n",
       "      <td>s Gravesandestraat 55 Oost 1092 AA Amsterdam ...</td>\n",
       "      <td>194</td>\n",
       "      <td>8/3/2017</td>\n",
       "      <td>7.7</td>\n",
       "      <td>Hotel Arena</td>\n",
       "      <td>Russia</td>\n",
       "      <td>I am so angry that i made this post available...</td>\n",
       "      <td>397</td>\n",
       "      <td>1403</td>\n",
       "      <td>Only the park outside of the hotel was beauti...</td>\n",
       "      <td>11</td>\n",
       "      <td>7</td>\n",
       "      <td>2.9</td>\n",
       "      <td>[' Leisure trip ', ' Couple ', ' Duplex Double...</td>\n",
       "      <td>0 days</td>\n",
       "      <td>52.360576</td>\n",
       "      <td>4.915968</td>\n",
       "    </tr>\n",
       "    <tr>\n",
       "      <th>1</th>\n",
       "      <td>s Gravesandestraat 55 Oost 1092 AA Amsterdam ...</td>\n",
       "      <td>194</td>\n",
       "      <td>8/3/2017</td>\n",
       "      <td>7.7</td>\n",
       "      <td>Hotel Arena</td>\n",
       "      <td>Ireland</td>\n",
       "      <td>No Negative</td>\n",
       "      <td>0</td>\n",
       "      <td>1403</td>\n",
       "      <td>No real complaints the hotel was great great ...</td>\n",
       "      <td>105</td>\n",
       "      <td>7</td>\n",
       "      <td>7.5</td>\n",
       "      <td>[' Leisure trip ', ' Couple ', ' Duplex Double...</td>\n",
       "      <td>0 days</td>\n",
       "      <td>52.360576</td>\n",
       "      <td>4.915968</td>\n",
       "    </tr>\n",
       "    <tr>\n",
       "      <th>2</th>\n",
       "      <td>s Gravesandestraat 55 Oost 1092 AA Amsterdam ...</td>\n",
       "      <td>194</td>\n",
       "      <td>7/31/2017</td>\n",
       "      <td>7.7</td>\n",
       "      <td>Hotel Arena</td>\n",
       "      <td>Australia</td>\n",
       "      <td>Rooms are nice but for elderly a bit difficul...</td>\n",
       "      <td>42</td>\n",
       "      <td>1403</td>\n",
       "      <td>Location was good and staff were ok It is cut...</td>\n",
       "      <td>21</td>\n",
       "      <td>9</td>\n",
       "      <td>7.1</td>\n",
       "      <td>[' Leisure trip ', ' Family with young childre...</td>\n",
       "      <td>3 days</td>\n",
       "      <td>52.360576</td>\n",
       "      <td>4.915968</td>\n",
       "    </tr>\n",
       "    <tr>\n",
       "      <th>3</th>\n",
       "      <td>s Gravesandestraat 55 Oost 1092 AA Amsterdam ...</td>\n",
       "      <td>194</td>\n",
       "      <td>7/31/2017</td>\n",
       "      <td>7.7</td>\n",
       "      <td>Hotel Arena</td>\n",
       "      <td>United Kingdom</td>\n",
       "      <td>My room was dirty and I was afraid to walk ba...</td>\n",
       "      <td>210</td>\n",
       "      <td>1403</td>\n",
       "      <td>Great location in nice surroundings the bar a...</td>\n",
       "      <td>26</td>\n",
       "      <td>1</td>\n",
       "      <td>3.8</td>\n",
       "      <td>[' Leisure trip ', ' Solo traveler ', ' Duplex...</td>\n",
       "      <td>3 days</td>\n",
       "      <td>52.360576</td>\n",
       "      <td>4.915968</td>\n",
       "    </tr>\n",
       "    <tr>\n",
       "      <th>4</th>\n",
       "      <td>s Gravesandestraat 55 Oost 1092 AA Amsterdam ...</td>\n",
       "      <td>194</td>\n",
       "      <td>7/24/2017</td>\n",
       "      <td>7.7</td>\n",
       "      <td>Hotel Arena</td>\n",
       "      <td>New Zealand</td>\n",
       "      <td>You When I booked with your company on line y...</td>\n",
       "      <td>140</td>\n",
       "      <td>1403</td>\n",
       "      <td>Amazing location and building Romantic setting</td>\n",
       "      <td>8</td>\n",
       "      <td>3</td>\n",
       "      <td>6.7</td>\n",
       "      <td>[' Leisure trip ', ' Couple ', ' Suite ', ' St...</td>\n",
       "      <td>10 days</td>\n",
       "      <td>52.360576</td>\n",
       "      <td>4.915968</td>\n",
       "    </tr>\n",
       "  </tbody>\n",
       "</table>\n",
       "</div>"
      ],
      "text/plain": [
       "                                       Hotel_Address  \\\n",
       "0   s Gravesandestraat 55 Oost 1092 AA Amsterdam ...   \n",
       "1   s Gravesandestraat 55 Oost 1092 AA Amsterdam ...   \n",
       "2   s Gravesandestraat 55 Oost 1092 AA Amsterdam ...   \n",
       "3   s Gravesandestraat 55 Oost 1092 AA Amsterdam ...   \n",
       "4   s Gravesandestraat 55 Oost 1092 AA Amsterdam ...   \n",
       "\n",
       "   Additional_Number_of_Scoring Review_Date  Average_Score   Hotel_Name  \\\n",
       "0                           194    8/3/2017            7.7  Hotel Arena   \n",
       "1                           194    8/3/2017            7.7  Hotel Arena   \n",
       "2                           194   7/31/2017            7.7  Hotel Arena   \n",
       "3                           194   7/31/2017            7.7  Hotel Arena   \n",
       "4                           194   7/24/2017            7.7  Hotel Arena   \n",
       "\n",
       "  Reviewer_Nationality                                    Negative_Review  \\\n",
       "0              Russia    I am so angry that i made this post available...   \n",
       "1             Ireland                                         No Negative   \n",
       "2           Australia    Rooms are nice but for elderly a bit difficul...   \n",
       "3      United Kingdom    My room was dirty and I was afraid to walk ba...   \n",
       "4         New Zealand    You When I booked with your company on line y...   \n",
       "\n",
       "   Review_Total_Negative_Word_Counts  Total_Number_of_Reviews  \\\n",
       "0                                397                     1403   \n",
       "1                                  0                     1403   \n",
       "2                                 42                     1403   \n",
       "3                                210                     1403   \n",
       "4                                140                     1403   \n",
       "\n",
       "                                     Positive_Review  \\\n",
       "0   Only the park outside of the hotel was beauti...   \n",
       "1   No real complaints the hotel was great great ...   \n",
       "2   Location was good and staff were ok It is cut...   \n",
       "3   Great location in nice surroundings the bar a...   \n",
       "4    Amazing location and building Romantic setting    \n",
       "\n",
       "   Review_Total_Positive_Word_Counts  \\\n",
       "0                                 11   \n",
       "1                                105   \n",
       "2                                 21   \n",
       "3                                 26   \n",
       "4                                  8   \n",
       "\n",
       "   Total_Number_of_Reviews_Reviewer_Has_Given  Reviewer_Score  \\\n",
       "0                                           7             2.9   \n",
       "1                                           7             7.5   \n",
       "2                                           9             7.1   \n",
       "3                                           1             3.8   \n",
       "4                                           3             6.7   \n",
       "\n",
       "                                                Tags days_since_review  \\\n",
       "0  [' Leisure trip ', ' Couple ', ' Duplex Double...            0 days   \n",
       "1  [' Leisure trip ', ' Couple ', ' Duplex Double...            0 days   \n",
       "2  [' Leisure trip ', ' Family with young childre...            3 days   \n",
       "3  [' Leisure trip ', ' Solo traveler ', ' Duplex...            3 days   \n",
       "4  [' Leisure trip ', ' Couple ', ' Suite ', ' St...           10 days   \n",
       "\n",
       "         lat       lng  \n",
       "0  52.360576  4.915968  \n",
       "1  52.360576  4.915968  \n",
       "2  52.360576  4.915968  \n",
       "3  52.360576  4.915968  \n",
       "4  52.360576  4.915968  "
      ]
     },
     "execution_count": 39,
     "metadata": {},
     "output_type": "execute_result"
    }
   ],
   "source": [
    "# Veri setini okuyalım.\n",
    "\n",
    "import pandas as pd\n",
    "df=pd.read_csv(\"C:/Users/Asus/.cache/kagglehub/datasets/jiashenliu/515k-hotel-reviews-data-in-europe/versions/1/Hotel_Reviews.csv\")\n",
    "df.head()"
   ]
  },
  {
   "cell_type": "code",
   "execution_count": 40,
   "metadata": {},
   "outputs": [
    {
     "name": "stdout",
     "output_type": "stream",
     "text": [
      "Country\n",
      "UK             262301\n",
      "Spain           60149\n",
      "France          59928\n",
      "Netherlands     57214\n",
      "Austria         38939\n",
      "Italy           37207\n",
      "Name: count, dtype: int64\n"
     ]
    }
   ],
   "source": [
    "# Hotel_Address sütununun son kelimesi ülke adı oluyor.Ülke adını ayrı bir sütun haline getirelim.\n",
    "# Aynı zamanda United Kingdom'u UK olarak değiştirelim.(Tek kelime olsun)\n",
    "\n",
    "df['Hotel_Address'] = df['Hotel_Address'].str.replace(\"United Kingdom\", \"UK\")\n",
    "df['Country'] = df['Hotel_Address'].str.split(' ').str[-1]\n",
    "print(df['Country'].value_counts())"
   ]
  },
  {
   "cell_type": "code",
   "execution_count": 41,
   "metadata": {},
   "outputs": [
    {
     "data": {
      "text/plain": [
       "(515738, 18)"
      ]
     },
     "execution_count": 41,
     "metadata": {},
     "output_type": "execute_result"
    }
   ],
   "source": [
    "# DataFrame'deki güncel satır ve sütun sayısını görelim.\n",
    "df.shape"
   ]
  },
  {
   "cell_type": "code",
   "execution_count": 42,
   "metadata": {},
   "outputs": [
    {
     "name": "stdout",
     "output_type": "stream",
     "text": [
      "526\n"
     ]
    }
   ],
   "source": [
    "# Kaç tane tekrar eden veri var?\n",
    "print(df.duplicated().sum())  "
   ]
  },
  {
   "cell_type": "code",
   "execution_count": 43,
   "metadata": {},
   "outputs": [
    {
     "name": "stdout",
     "output_type": "stream",
     "text": [
      "Yeni veri seti boyutu: (515212, 18)\n"
     ]
    }
   ],
   "source": [
    "# Veri setinde 526 tane tekrar eden satır var.Bunları kaldıralım.\n",
    "# Ardından df.shape ile temizleme sonrası DataFrame'deki güncel satır ve sütun sayısını görelim.\n",
    "\n",
    "df = df.drop_duplicates()\n",
    "print(f\"Yeni veri seti boyutu: {df.shape}\")"
   ]
  },
  {
   "cell_type": "code",
   "execution_count": 44,
   "metadata": {},
   "outputs": [
    {
     "name": "stdout",
     "output_type": "stream",
     "text": [
      "Hotel_Address                                    0\n",
      "Additional_Number_of_Scoring                     0\n",
      "Review_Date                                      0\n",
      "Average_Score                                    0\n",
      "Hotel_Name                                       0\n",
      "Reviewer_Nationality                             0\n",
      "Negative_Review                                  0\n",
      "Review_Total_Negative_Word_Counts                0\n",
      "Total_Number_of_Reviews                          0\n",
      "Positive_Review                                  0\n",
      "Review_Total_Positive_Word_Counts                0\n",
      "Total_Number_of_Reviews_Reviewer_Has_Given       0\n",
      "Reviewer_Score                                   0\n",
      "Tags                                             0\n",
      "days_since_review                                0\n",
      "lat                                           3268\n",
      "lng                                           3268\n",
      "Country                                          0\n",
      "dtype: int64\n"
     ]
    }
   ],
   "source": [
    "# Eksik/hatalı veriler var mı?\n",
    "print(df.isnull().sum())"
   ]
  },
  {
   "cell_type": "code",
   "execution_count": 45,
   "metadata": {},
   "outputs": [
    {
     "name": "stdout",
     "output_type": "stream",
     "text": [
      "(515212, 16)\n"
     ]
    }
   ],
   "source": [
    "# lat ve lng sütunlarında eksik veriler var.Bu sütunları çıkaracağım.\n",
    "# Modelin doğruluğunu etkileyip etkilemediğini daha sonra test edeceğim.Gerekirse geri ekleyeceğim.\n",
    "\n",
    "df.drop(['lat', 'lng'], axis=1, inplace=True)\n",
    "\n",
    "# Verinin yeni halini kontrol edelim\n",
    "print(df.shape)"
   ]
  },
  {
   "cell_type": "code",
   "execution_count": 46,
   "metadata": {},
   "outputs": [
    {
     "data": {
      "text/plain": [
       "Index(['Hotel_Address', 'Additional_Number_of_Scoring', 'Review_Date',\n",
       "       'Average_Score', 'Hotel_Name', 'Reviewer_Nationality',\n",
       "       'Negative_Review', 'Review_Total_Negative_Word_Counts',\n",
       "       'Total_Number_of_Reviews', 'Positive_Review',\n",
       "       'Review_Total_Positive_Word_Counts',\n",
       "       'Total_Number_of_Reviews_Reviewer_Has_Given', 'Reviewer_Score', 'Tags',\n",
       "       'days_since_review', 'Country'],\n",
       "      dtype='object')"
      ]
     },
     "execution_count": 46,
     "metadata": {},
     "output_type": "execute_result"
    }
   ],
   "source": [
    "df.columns"
   ]
  },
  {
   "cell_type": "code",
   "execution_count": 47,
   "metadata": {},
   "outputs": [
    {
     "name": "stdout",
     "output_type": "stream",
     "text": [
      "(515212, 9)\n"
     ]
    }
   ],
   "source": [
    "#Modelin doğruluğunu etkilemeyecek diğer sütunları da çıkaracağım.\n",
    "\n",
    "df.drop(['Reviewer_Nationality','days_since_review','Additional_Number_of_Scoring','Review_Total_Negative_Word_Counts','Total_Number_of_Reviews','Review_Total_Positive_Word_Counts','Total_Number_of_Reviews_Reviewer_Has_Given'],axis=1,inplace=True)\n",
    "print(df.shape)"
   ]
  },
  {
   "cell_type": "code",
   "execution_count": 48,
   "metadata": {},
   "outputs": [
    {
     "name": "stdout",
     "output_type": "stream",
     "text": [
      "['Netherlands' 'UK' 'France' 'Spain' 'Italy' 'Austria']\n"
     ]
    }
   ],
   "source": [
    "# Dataset'te 6 farklı ülke var.\n",
    "print(df['Country'].unique())"
   ]
  },
  {
   "cell_type": "code",
   "execution_count": 49,
   "metadata": {},
   "outputs": [
    {
     "name": "stdout",
     "output_type": "stream",
     "text": [
      "0   2017-08-03\n",
      "1   2017-08-03\n",
      "2   2017-07-31\n",
      "3   2017-07-31\n",
      "4   2017-07-24\n",
      "Name: Review_Date, dtype: datetime64[ns]\n"
     ]
    }
   ],
   "source": [
    "# Review_Date sütunu üzerinde işlemler yapacağım.\n",
    "# datetime formatına dönüştüreceğim. \n",
    "# errors='coerce' parametresi kullanıldığında, geçersiz veya hatalı tarih formatları olan hücreler\n",
    "# NaT (Not a Time) değerine dönüştürülür. \n",
    "# Bu sayede veri setindeki tarih formatları tutarsız olsa bile hatalar düzgün şekilde ele alınır.\n",
    "\n",
    "df['Review_Date'] = pd.to_datetime(df['Review_Date'], errors='coerce')\n",
    "print(df['Review_Date'].head())\n"
   ]
  },
  {
   "cell_type": "code",
   "execution_count": 50,
   "metadata": {},
   "outputs": [
    {
     "data": {
      "text/html": [
       "<div>\n",
       "<style scoped>\n",
       "    .dataframe tbody tr th:only-of-type {\n",
       "        vertical-align: middle;\n",
       "    }\n",
       "\n",
       "    .dataframe tbody tr th {\n",
       "        vertical-align: top;\n",
       "    }\n",
       "\n",
       "    .dataframe thead th {\n",
       "        text-align: right;\n",
       "    }\n",
       "</style>\n",
       "<table border=\"1\" class=\"dataframe\">\n",
       "  <thead>\n",
       "    <tr style=\"text-align: right;\">\n",
       "      <th></th>\n",
       "      <th>Hotel_Address</th>\n",
       "      <th>Review_Date</th>\n",
       "      <th>Average_Score</th>\n",
       "      <th>Hotel_Name</th>\n",
       "      <th>Negative_Review</th>\n",
       "      <th>Positive_Review</th>\n",
       "      <th>Reviewer_Score</th>\n",
       "      <th>Tags</th>\n",
       "      <th>Country</th>\n",
       "      <th>Review_Year</th>\n",
       "      <th>Review_Month_Name</th>\n",
       "    </tr>\n",
       "  </thead>\n",
       "  <tbody>\n",
       "    <tr>\n",
       "      <th>0</th>\n",
       "      <td>s Gravesandestraat 55 Oost 1092 AA Amsterdam ...</td>\n",
       "      <td>2017-08-03</td>\n",
       "      <td>7.7</td>\n",
       "      <td>Hotel Arena</td>\n",
       "      <td>I am so angry that i made this post available...</td>\n",
       "      <td>Only the park outside of the hotel was beauti...</td>\n",
       "      <td>2.9</td>\n",
       "      <td>[' Leisure trip ', ' Couple ', ' Duplex Double...</td>\n",
       "      <td>Netherlands</td>\n",
       "      <td>2017</td>\n",
       "      <td>August</td>\n",
       "    </tr>\n",
       "    <tr>\n",
       "      <th>1</th>\n",
       "      <td>s Gravesandestraat 55 Oost 1092 AA Amsterdam ...</td>\n",
       "      <td>2017-08-03</td>\n",
       "      <td>7.7</td>\n",
       "      <td>Hotel Arena</td>\n",
       "      <td>No Negative</td>\n",
       "      <td>No real complaints the hotel was great great ...</td>\n",
       "      <td>7.5</td>\n",
       "      <td>[' Leisure trip ', ' Couple ', ' Duplex Double...</td>\n",
       "      <td>Netherlands</td>\n",
       "      <td>2017</td>\n",
       "      <td>August</td>\n",
       "    </tr>\n",
       "    <tr>\n",
       "      <th>2</th>\n",
       "      <td>s Gravesandestraat 55 Oost 1092 AA Amsterdam ...</td>\n",
       "      <td>2017-07-31</td>\n",
       "      <td>7.7</td>\n",
       "      <td>Hotel Arena</td>\n",
       "      <td>Rooms are nice but for elderly a bit difficul...</td>\n",
       "      <td>Location was good and staff were ok It is cut...</td>\n",
       "      <td>7.1</td>\n",
       "      <td>[' Leisure trip ', ' Family with young childre...</td>\n",
       "      <td>Netherlands</td>\n",
       "      <td>2017</td>\n",
       "      <td>July</td>\n",
       "    </tr>\n",
       "    <tr>\n",
       "      <th>3</th>\n",
       "      <td>s Gravesandestraat 55 Oost 1092 AA Amsterdam ...</td>\n",
       "      <td>2017-07-31</td>\n",
       "      <td>7.7</td>\n",
       "      <td>Hotel Arena</td>\n",
       "      <td>My room was dirty and I was afraid to walk ba...</td>\n",
       "      <td>Great location in nice surroundings the bar a...</td>\n",
       "      <td>3.8</td>\n",
       "      <td>[' Leisure trip ', ' Solo traveler ', ' Duplex...</td>\n",
       "      <td>Netherlands</td>\n",
       "      <td>2017</td>\n",
       "      <td>July</td>\n",
       "    </tr>\n",
       "    <tr>\n",
       "      <th>4</th>\n",
       "      <td>s Gravesandestraat 55 Oost 1092 AA Amsterdam ...</td>\n",
       "      <td>2017-07-24</td>\n",
       "      <td>7.7</td>\n",
       "      <td>Hotel Arena</td>\n",
       "      <td>You When I booked with your company on line y...</td>\n",
       "      <td>Amazing location and building Romantic setting</td>\n",
       "      <td>6.7</td>\n",
       "      <td>[' Leisure trip ', ' Couple ', ' Suite ', ' St...</td>\n",
       "      <td>Netherlands</td>\n",
       "      <td>2017</td>\n",
       "      <td>July</td>\n",
       "    </tr>\n",
       "  </tbody>\n",
       "</table>\n",
       "</div>"
      ],
      "text/plain": [
       "                                       Hotel_Address Review_Date  \\\n",
       "0   s Gravesandestraat 55 Oost 1092 AA Amsterdam ...  2017-08-03   \n",
       "1   s Gravesandestraat 55 Oost 1092 AA Amsterdam ...  2017-08-03   \n",
       "2   s Gravesandestraat 55 Oost 1092 AA Amsterdam ...  2017-07-31   \n",
       "3   s Gravesandestraat 55 Oost 1092 AA Amsterdam ...  2017-07-31   \n",
       "4   s Gravesandestraat 55 Oost 1092 AA Amsterdam ...  2017-07-24   \n",
       "\n",
       "   Average_Score   Hotel_Name  \\\n",
       "0            7.7  Hotel Arena   \n",
       "1            7.7  Hotel Arena   \n",
       "2            7.7  Hotel Arena   \n",
       "3            7.7  Hotel Arena   \n",
       "4            7.7  Hotel Arena   \n",
       "\n",
       "                                     Negative_Review  \\\n",
       "0   I am so angry that i made this post available...   \n",
       "1                                        No Negative   \n",
       "2   Rooms are nice but for elderly a bit difficul...   \n",
       "3   My room was dirty and I was afraid to walk ba...   \n",
       "4   You When I booked with your company on line y...   \n",
       "\n",
       "                                     Positive_Review  Reviewer_Score  \\\n",
       "0   Only the park outside of the hotel was beauti...             2.9   \n",
       "1   No real complaints the hotel was great great ...             7.5   \n",
       "2   Location was good and staff were ok It is cut...             7.1   \n",
       "3   Great location in nice surroundings the bar a...             3.8   \n",
       "4    Amazing location and building Romantic setting              6.7   \n",
       "\n",
       "                                                Tags      Country  \\\n",
       "0  [' Leisure trip ', ' Couple ', ' Duplex Double...  Netherlands   \n",
       "1  [' Leisure trip ', ' Couple ', ' Duplex Double...  Netherlands   \n",
       "2  [' Leisure trip ', ' Family with young childre...  Netherlands   \n",
       "3  [' Leisure trip ', ' Solo traveler ', ' Duplex...  Netherlands   \n",
       "4  [' Leisure trip ', ' Couple ', ' Suite ', ' St...  Netherlands   \n",
       "\n",
       "   Review_Year Review_Month_Name  \n",
       "0         2017            August  \n",
       "1         2017            August  \n",
       "2         2017              July  \n",
       "3         2017              July  \n",
       "4         2017              July  "
      ]
     },
     "execution_count": 50,
     "metadata": {},
     "output_type": "execute_result"
    }
   ],
   "source": [
    "# Kullanıcıların yıl ve ay üzerinden filtreleme yapabilmesini sağlayacağım.\n",
    "# Değerlendirme yılı ve değerlendirme ayı şeklinde sütunlar oluşturalım.\n",
    "df['Review_Year']=df['Review_Date'].dt.year\n",
    "\n",
    "# Eğer kullanıcılar ayları sayısal olarak değil de isim olarak görsün.\n",
    "df['Review_Month_Name'] = df['Review_Date'].dt.strftime('%B')\n",
    "df.head()"
   ]
  },
  {
   "cell_type": "code",
   "execution_count": 51,
   "metadata": {},
   "outputs": [
    {
     "name": "stdout",
     "output_type": "stream",
     "text": [
      "Review_Month_Name\n",
      "August       50615\n",
      "July         49267\n",
      "May          46457\n",
      "October      43773\n",
      "April        42857\n",
      "June         42856\n",
      "September    42341\n",
      "January      42121\n",
      "March        41075\n",
      "December     39574\n",
      "February     38337\n",
      "November     35939\n",
      "Name: count, dtype: int64\n"
     ]
    }
   ],
   "source": [
    "# Ayların dağılımını kontrol et\n",
    "print(df['Review_Month_Name'].value_counts())\n"
   ]
  },
  {
   "cell_type": "code",
   "execution_count": 52,
   "metadata": {},
   "outputs": [
    {
     "name": "stdout",
     "output_type": "stream",
     "text": [
      "  Review_Date Review_Month_Name  Season\n",
      "0  2017-08-03            August  Summer\n",
      "1  2017-08-03            August  Summer\n",
      "2  2017-07-31              July  Summer\n",
      "3  2017-07-31              July  Summer\n",
      "4  2017-07-24              July  Summer\n"
     ]
    }
   ],
   "source": [
    "# Her yorum,tarih bilgisine göre bir mevsime atansın.\n",
    "\n",
    "# Mevsim fonksiyonu\n",
    "def season(month):\n",
    "    if month in [3, 4, 5]:\n",
    "        return 'Spring'\n",
    "    elif month in [6, 7, 8]:\n",
    "        return 'Summer'\n",
    "    elif month in [9, 10, 11]:\n",
    "        return 'Fall'\n",
    "    elif month in [12, 1, 2]:\n",
    "        return 'Winter'\n",
    "    else:\n",
    "        return \"Unknown!\"\n",
    "\n",
    "# Şimdi season sütunu ekleyelim.\n",
    "df['Season'] = df['Review_Date'].dt.month.apply(season)\n",
    "\n",
    "# Sonuçları kontrol edelim.\n",
    "print(df[['Review_Date','Review_Month_Name', 'Season']].head())"
   ]
  },
  {
   "cell_type": "code",
   "execution_count": 53,
   "metadata": {},
   "outputs": [
    {
     "data": {
      "text/plain": [
       "Season\n",
       "Summer    0.277047\n",
       "Spring    0.253078\n",
       "Fall      0.236899\n",
       "Winter    0.232976\n",
       "Name: proportion, dtype: float64"
      ]
     },
     "execution_count": 53,
     "metadata": {},
     "output_type": "execute_result"
    }
   ],
   "source": [
    "# Dataset'te mevsimlerin oransal dağılımı.\n",
    "df['Season'].value_counts(normalize=True)"
   ]
  },
  {
   "cell_type": "markdown",
   "metadata": {},
   "source": [
    "Numerik sütunların analizi.\n",
    "\n",
    "Reviewer_Score: Bu sütun otellerin genel puanlarını temsil ediyor ve model için güçlü bir tahmin edici olabilir.Burada skorları \n",
    "düşük-orta-yüksek şeklinde aralıklara bölerek kategorik bir sütun oluşturalım."
   ]
  },
  {
   "cell_type": "code",
   "execution_count": 54,
   "metadata": {},
   "outputs": [
    {
     "name": "stdout",
     "output_type": "stream",
     "text": [
      "   Reviewer_Score Reviewer_Score_Range\n",
      "0             2.9                  Low\n",
      "1             7.5                 High\n",
      "2             7.1                 High\n",
      "3             3.8               Medium\n",
      "4             6.7                 High\n"
     ]
    }
   ],
   "source": [
    "# Reviewer_Score değerlerini 0-10 arasında 3 eşit parçaya ayıralım.\n",
    "\n",
    "bins = [0, 3.33, 6.66, 10]  # Aralıklar\n",
    "labels = ['Low', 'Medium', 'High']  # Etiketler\n",
    "\n",
    "#include_lowest=True ile belirtilen ilk aralık(0-3.33)dahil edilir.Medium ->low kategorisinde olur.\n",
    "df['Reviewer_Score_Range'] = pd.cut(df['Reviewer_Score'], bins=bins, labels=labels, include_lowest=True)\n",
    "\n",
    "# Oluşturulan sütunu kontrol edelim.\n",
    "print(df[['Reviewer_Score', 'Reviewer_Score_Range']].head())\n"
   ]
  },
  {
   "cell_type": "markdown",
   "metadata": {},
   "source": [
    "Kullanıcı puanı->   Reviewer Score\n",
    "\n",
    "Otelin genel puanı -> Average Score\n",
    "\n",
    "Şimdi Score_Difference adında bu iki score'un farkını gösteren bir sütun oluşturalım.Bu sütun şu işlevleri yerine getirecek:\n",
    "Otelin genel puanı yüksek ama kullanıcılar düşük puan veriyorsa otel için bu bir uyarı olabilir.\n",
    "Genel puan düşük, ancak kullanıcılar yüksek puan veriyorsa otelin imajını iyileştirme potansiyelini gösterebilir."
   ]
  },
  {
   "cell_type": "code",
   "execution_count": 55,
   "metadata": {},
   "outputs": [
    {
     "name": "stdout",
     "output_type": "stream",
     "text": [
      "        Reviewer_Score  Average_Score  Score_Difference\n",
      "0                  2.9            7.7              -4.8\n",
      "1                  7.5            7.7              -0.2\n",
      "2                  7.1            7.7              -0.6\n",
      "3                  3.8            7.7              -3.9\n",
      "4                  6.7            7.7              -1.0\n",
      "...                ...            ...               ...\n",
      "515733             7.0            8.1              -1.1\n",
      "515734             5.8            8.1              -2.3\n",
      "515735             2.5            8.1              -5.6\n",
      "515736             8.8            8.1               0.7\n",
      "515737             8.3            8.1               0.2\n",
      "\n",
      "[515212 rows x 3 columns]\n"
     ]
    }
   ],
   "source": [
    "df['Score_Difference']=df['Reviewer_Score']-df['Average_Score']\n",
    "print(df[['Reviewer_Score','Average_Score','Score_Difference']])\n"
   ]
  },
  {
   "cell_type": "code",
   "execution_count": 57,
   "metadata": {},
   "outputs": [],
   "source": [
    "# Olumlu ve olumsuz yorumları birleştirerek 'Review_Text' sütununu oluşturuyoruz\n",
    "df['Positive_Review'] = df['Positive_Review'].fillna('')\n",
    "df['Negative_Review'] = df['Negative_Review'].fillna('')\n",
    "df['Review_Text'] = df['Positive_Review'] + \" \" + df['Negative_Review']\n"
   ]
  },
  {
   "cell_type": "code",
   "execution_count": 63,
   "metadata": {},
   "outputs": [
    {
     "name": "stdout",
     "output_type": "stream",
     "text": [
      "Model doğruluğu: 87.18%\n"
     ]
    },
    {
     "data": {
      "text/html": [
       "<div>\n",
       "<style scoped>\n",
       "    .dataframe tbody tr th:only-of-type {\n",
       "        vertical-align: middle;\n",
       "    }\n",
       "\n",
       "    .dataframe tbody tr th {\n",
       "        vertical-align: top;\n",
       "    }\n",
       "\n",
       "    .dataframe thead th {\n",
       "        text-align: right;\n",
       "    }\n",
       "</style>\n",
       "<table border=\"1\" class=\"dataframe\">\n",
       "  <thead>\n",
       "    <tr style=\"text-align: right;\">\n",
       "      <th></th>\n",
       "      <th>Hotel_Name</th>\n",
       "      <th>Reviewer_Score</th>\n",
       "    </tr>\n",
       "  </thead>\n",
       "  <tbody>\n",
       "    <tr>\n",
       "      <th>302600</th>\n",
       "      <td>Worldhotel Cristoforo Colombo</td>\n",
       "      <td>9.0</td>\n",
       "    </tr>\n",
       "    <tr>\n",
       "      <th>486147</th>\n",
       "      <td>Best Western Madison Hotel</td>\n",
       "      <td>9.0</td>\n",
       "    </tr>\n",
       "    <tr>\n",
       "      <th>486801</th>\n",
       "      <td>STRAF a Member of Design Hotels</td>\n",
       "      <td>9.0</td>\n",
       "    </tr>\n",
       "    <tr>\n",
       "      <th>481522</th>\n",
       "      <td>Hotel Manin</td>\n",
       "      <td>8.8</td>\n",
       "    </tr>\n",
       "    <tr>\n",
       "      <th>494230</th>\n",
       "      <td>Bianca Maria Palace Hotel</td>\n",
       "      <td>8.8</td>\n",
       "    </tr>\n",
       "    <tr>\n",
       "      <th>492876</th>\n",
       "      <td>Holiday Inn Milan Garibaldi Station</td>\n",
       "      <td>8.8</td>\n",
       "    </tr>\n",
       "    <tr>\n",
       "      <th>476055</th>\n",
       "      <td>Idea Hotel Milano San Siro</td>\n",
       "      <td>8.8</td>\n",
       "    </tr>\n",
       "    <tr>\n",
       "      <th>492974</th>\n",
       "      <td>Milan Suite Hotel</td>\n",
       "      <td>8.8</td>\n",
       "    </tr>\n",
       "    <tr>\n",
       "      <th>492975</th>\n",
       "      <td>Milan Suite Hotel</td>\n",
       "      <td>8.8</td>\n",
       "    </tr>\n",
       "    <tr>\n",
       "      <th>494218</th>\n",
       "      <td>Bianca Maria Palace Hotel</td>\n",
       "      <td>8.8</td>\n",
       "    </tr>\n",
       "  </tbody>\n",
       "</table>\n",
       "</div>"
      ],
      "text/plain": [
       "                                 Hotel_Name  Reviewer_Score\n",
       "302600        Worldhotel Cristoforo Colombo             9.0\n",
       "486147           Best Western Madison Hotel             9.0\n",
       "486801     STRAF a Member of Design Hotels              9.0\n",
       "481522                          Hotel Manin             8.8\n",
       "494230            Bianca Maria Palace Hotel             8.8\n",
       "492876  Holiday Inn Milan Garibaldi Station             8.8\n",
       "476055           Idea Hotel Milano San Siro             8.8\n",
       "492974                    Milan Suite Hotel             8.8\n",
       "492975                    Milan Suite Hotel             8.8\n",
       "494218            Bianca Maria Palace Hotel             8.8"
      ]
     },
     "execution_count": 63,
     "metadata": {},
     "output_type": "execute_result"
    }
   ],
   "source": [
    "from sklearn.model_selection import train_test_split\n",
    "from sklearn.feature_extraction.text import TfidfVectorizer  \n",
    "from sklearn.ensemble import RandomForestClassifier\n",
    "from sklearn.metrics import accuracy_score\n",
    "\n",
    "\n",
    "# Yorumları ve gerekli özellikleri alalım\n",
    "X = df[['Review_Text', 'Country', 'Season','Review_Year','Review_Month_Name']]  # Özellikler\n",
    "y = df['Reviewer_Score_Range']  # Hedef değişken (Yüksek, Orta, Düşük skorlar)\n",
    "\n",
    "# Metin verisini sayısallaştırma\n",
    "vectorizer = TfidfVectorizer()\n",
    "X_text = vectorizer.fit_transform(X['Review_Text'])\n",
    "\n",
    "# Diğer özellikleri sayısallaştırma (Country, Season gibi)\n",
    "X_other = pd.get_dummies(X[['Country', 'Season']])\n",
    "\n",
    "# Özellikleri birleştirelim\n",
    "from scipy.sparse import hstack\n",
    "X_final = hstack([X_text, X_other])\n",
    "\n",
    "\n",
    "# Eğitim ve test verisine ayıralım\n",
    "X_train, X_test, y_train, y_test = train_test_split(X_final, y, test_size=0.2, random_state=42)\n",
    "\n",
    "# Modeli eğitim verisi ile eğitelim\n",
    "model = RandomForestClassifier(n_estimators=10, random_state=42, n_jobs=-1)\n",
    "model.fit(X_train, y_train)\n",
    "\n",
    "# Test verisi ile tahmin yapalım\n",
    "y_pred = model.predict(X_test)\n",
    "\n",
    "# Modelin doğruluğunu ölçelim\n",
    "accuracy = accuracy_score(y_test, y_pred)\n",
    "print(f\"Model doğruluğu: {accuracy * 100:.2f}%\")\n",
    "\n",
    "# Kullanıcı seçimlerine göre otel önerisi\n",
    "def recommend_hotels(year, month, min_score, max_score, country):\n",
    "    # Kullanıcı seçimlerine göre filtreleme yapılabilir\n",
    "    filtered_df = df[(df['Review_Year'] == year) &\n",
    "                     (df['Review_Month_Name'] == month) &\n",
    "                     (df['Reviewer_Score'] >= min_score) &\n",
    "                     (df['Reviewer_Score'] <= max_score) &\n",
    "                     (df['Country'] == country)]\n",
    "    \n",
    "    # Kullanıcı seçimine göre en yüksek puanlı otelleri sıralama\n",
    "    top_hotels = filtered_df[['Hotel_Name', 'Reviewer_Score']].sort_values(by='Reviewer_Score', ascending=False).head(10)\n",
    "    \n",
    "    return top_hotels\n",
    "\n",
    "# Kullanıcıdan parametreleri alalım ve otel önerisi yapalım\n",
    "recommended_hotels = recommend_hotels(year=2017, month='March', min_score=7, max_score=9, country='Italy')\n",
    "recommended_hotels"
   ]
  }
 ],
 "metadata": {
  "kernelspec": {
   "display_name": "base",
   "language": "python",
   "name": "python3"
  },
  "language_info": {
   "codemirror_mode": {
    "name": "ipython",
    "version": 3
   },
   "file_extension": ".py",
   "mimetype": "text/x-python",
   "name": "python",
   "nbconvert_exporter": "python",
   "pygments_lexer": "ipython3",
   "version": "3.11.7"
  }
 },
 "nbformat": 4,
 "nbformat_minor": 2
}
